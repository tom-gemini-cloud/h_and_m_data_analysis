{
 "cells": [
  {
   "cell_type": "markdown",
   "id": "5c7d5660",
   "metadata": {},
   "source": [
    "# Data Cleaning\n"
   ]
  },
  {
   "cell_type": "code",
   "execution_count": null,
   "id": "3dbe5686",
   "metadata": {},
   "outputs": [],
   "source": [
    "import sys\n",
    "sys.path.append('../') \n",
    "\n",
    "from hnm_data_analysis.data_cleaning.data_cleaner import clean_all_datasets\n",
    "from hnm_data_analysis.data_understanding.data_report_generator import generate_data_report\n",
    "\n",
    "output_paths = clean_all_datasets(\n",
    "    '../data/processed/transactions_last_3_months.parquet',\n",
    "    '../data/processed/customers_last_3_months.parquet',\n",
    "    '../data/processed/articles_last_3_months.parquet'\n",
    ")\n",
    "\n",
    "print(\"Files created:\")\n",
    "for key, path in output_paths.items():\n",
    "    print(f\"  {key}: {path}\")"
   ]
  },
  {
   "cell_type": "markdown",
   "id": "3eefde8c",
   "metadata": {},
   "source": [
    "## Inspect the cleaned data\n"
   ]
  },
  {
   "cell_type": "code",
   "execution_count": null,
   "id": "a28619b9",
   "metadata": {},
   "outputs": [],
   "source": [
    "try:\n",
    "    # Generate data report for transactions_last_3_months_cleaned.parquet\n",
    "    print(generate_data_report(\"../data/cleaned/transactions_last_3_months_cleaned.parquet\"))\n",
    "\n",
    "    # Generate data report for customers_last_3_months_cleaned.parquet\n",
    "    print(generate_data_report(\"../data/cleaned/customers_last_3_months_cleaned.parquet\"))\n",
    "\n",
    "    # Generate data report for articles_last_3_months_cleaned.parquet\n",
    "    print(generate_data_report(\"../data/cleaned/articles_last_3_months_cleaned.parquet\"))\n",
    "    \n",
    "except Exception as e:\n",
    "    print(f\"Error: {e}\")"
   ]
  }
 ],
 "metadata": {
  "kernelspec": {
   "display_name": ".venv",
   "language": "python",
   "name": "python3"
  },
  "language_info": {
   "codemirror_mode": {
    "name": "ipython",
    "version": 3
   },
   "file_extension": ".py",
   "mimetype": "text/x-python",
   "name": "python",
   "nbconvert_exporter": "python",
   "pygments_lexer": "ipython3",
   "version": "3.11.9"
  }
 },
 "nbformat": 4,
 "nbformat_minor": 5
}
