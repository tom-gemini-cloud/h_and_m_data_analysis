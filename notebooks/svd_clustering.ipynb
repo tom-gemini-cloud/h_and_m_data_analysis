{
  "cells": [
    {
      "cell_type": "markdown",
      "metadata": {},
      "source": [
        "# SVD-only Article Clustering\n",
        "\n",
        "This notebook clusters H&M articles using only SVD (LSA) embeddings derived from TF‑IDF of product descriptions.\n",
        "\n",
        "- Loads dense SVD vectors (no categorical features)\n",
        "- Selects k via the elbow method\n",
        "- Performs clustering and interpretation using product metadata\n",
        "- Visualises clusters with PCA and t‑SNE\n",
        "\n",
        "All identifiers, comments, and Markdown use UK spellings.\n"
      ]
    },
    {
      "cell_type": "code",
      "execution_count": null,
      "metadata": {},
      "outputs": [],
      "source": [
        "# Imports and configuration\n",
        "import sys\n",
        "sys.path.append('../') \n",
        "import os\n",
        "import polars as pl\n",
        "import numpy as np\n",
        "\n",
        "from hnm_data_analysis.clustering.article_clustering import ArticleClusterer, ClusteringConfig\n",
        "\n",
        "# Set absolute project paths\n",
        "BASE_DIR = \"/Users/tom/Data Analysis Projects/h_and_m_data_analysis\"\n",
        "FEATURES_DIR = f\"{BASE_DIR}/data/processed/features\"\n",
        "SVD_PATH = f\"{FEATURES_DIR}/svd_embeddings.parquet\"\n",
        "ARTICLE_ID_INDEX = f\"{FEATURES_DIR}/article_id_index.csv\"\n",
        "ARTICLES_PATH = f\"{BASE_DIR}/data/cleaned/articles_last_3_months_cleaned.parquet\"\n",
        "RESULTS_DIR = f\"{BASE_DIR}/results/svd_clustering\"\n",
        "\n",
        "os.makedirs(RESULTS_DIR, exist_ok=True)\n",
        "print(\"Base directory:\", BASE_DIR)\n"
      ]
    },
    {
      "cell_type": "code",
      "execution_count": null,
      "metadata": {},
      "outputs": [],
      "source": [
        "# 1) Load SVD embeddings and align article IDs\n",
        "svd_df = pl.read_parquet(SVD_PATH)\n",
        "print(\"SVD shape:\", svd_df.shape)\n",
        "\n",
        "# Ensure article_id column exists\n",
        "assert \"article_id\" in svd_df.columns, \"svd_embeddings.parquet must include 'article_id'\"\n",
        "\n",
        "# Sort by article_id to align deterministically\n",
        "svd_df = svd_df.sort(\"article_id\")\n",
        "\n",
        "# Extract features (columns starting with 'svd_')\n",
        "svd_cols = [c for c in svd_df.columns if c.startswith(\"svd_\")]\n",
        "X = svd_df.select(svd_cols).to_numpy()\n",
        "article_ids = svd_df[\"article_id\"].to_list()\n",
        "\n",
        "print(\"Feature matrix:\", X.shape)\n",
        "print(\"Example columns:\", svd_cols[:5])\n"
      ]
    },
    {
      "cell_type": "code",
      "execution_count": null,
      "metadata": {},
      "outputs": [],
      "source": [
        "# 2) Persist features in compatible format for clusterer\n",
        "features_npy = f\"{FEATURES_DIR}/svd_only_features.npy\"\n",
        "ids_csv = f\"{FEATURES_DIR}/svd_only_article_id_index.csv\"\n",
        "\n",
        "np.save(features_npy, X)\n",
        "pl.DataFrame({\"article_id\": article_ids}).write_csv(ids_csv)\n",
        "\n",
        "print(\"Saved:\", features_npy)\n",
        "print(\"Saved:\", ids_csv)\n"
      ]
    },
    {
      "cell_type": "code",
      "execution_count": null,
      "metadata": {},
      "outputs": [],
      "source": [
        "# 3) Cluster using ArticleClusterer on SVD-only features\n",
        "clusterer = ArticleClusterer(\n",
        "    features_path=features_npy,\n",
        "    article_ids_path=ids_csv,\n",
        "    articles_metadata_path=ARTICLES_PATH\n",
        ")\n",
        "\n",
        "clusterer.load_features()\n",
        "clusterer.load_articles_metadata()\n",
        "\n",
        "# Find optimal k via elbow\n",
        "optimal_k, scores = clusterer.find_optimal_k(k_range=(3, 20), algorithm=\"kmeans\")\n",
        "print(\"Optimal k:\", optimal_k)\n",
        "print(\"Elbow scores (inertia):\", scores)\n"
      ]
    },
    {
      "cell_type": "code",
      "execution_count": null,
      "metadata": {},
      "outputs": [],
      "source": [
        "# 4) Run K-means clustering and interpret\n",
        "config = ClusteringConfig(\n",
        "    algorithm=\"kmeans\",\n",
        "    n_clusters=optimal_k,\n",
        "    random_state=42\n",
        ")\n",
        "\n",
        "results = clusterer.cluster(config)\n",
        "summaries = clusterer.interpret_clusters()\n",
        "\n",
        "print(\"\\nCluster summaries (truncated):\")\n",
        "for cid, s in list(summaries.items())[:5]:\n",
        "    print(f\"Cluster {cid}: size={s['size']} ({s['percentage']:.1f}%)\")\n"
      ]
    },
    {
      "cell_type": "code",
      "execution_count": null,
      "metadata": {},
      "outputs": [],
      "source": [
        "# 5) Visualisations and save results\n",
        "clusterer.visualise_clusters(method=\"pca\", save_path=f\"{RESULTS_DIR}/clusters_pca.png\")\n",
        "clusterer.visualise_clusters(method=\"tsne\", save_path=f\"{RESULTS_DIR}/clusters_tsne.png\")\n",
        "\n",
        "clusterer.save_results(RESULTS_DIR)\n",
        "print(\"Saved results to:\", RESULTS_DIR)\n"
      ]
    }
  ],
  "metadata": {
    "language_info": {
      "name": "python"
    }
  },
  "nbformat": 4,
  "nbformat_minor": 2
}
