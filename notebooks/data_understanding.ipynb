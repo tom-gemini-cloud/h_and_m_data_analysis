{
 "cells": [
  {
   "cell_type": "markdown",
   "id": "3593be9e",
   "metadata": {},
   "source": [
    "# Producing Data Understanding Reports in Markdown\n"
   ]
  },
  {
   "cell_type": "markdown",
   "id": "45652603",
   "metadata": {},
   "source": [
    "## Import the report generator module\n"
   ]
  },
  {
   "cell_type": "code",
   "execution_count": 10,
   "id": "8a0b60b5",
   "metadata": {},
   "outputs": [],
   "source": [
    "import sys\n",
    "sys.path.append('../') \n",
    "\n",
    "from hnm_data_analysis.data_understanding.data_report_generator import generate_data_report"
   ]
  },
  {
   "cell_type": "markdown",
   "id": "04b18810",
   "metadata": {},
   "source": [
    "## Generate Reports\n"
   ]
  },
  {
   "cell_type": "code",
   "execution_count": 11,
   "id": "d727fdfe",
   "metadata": {},
   "outputs": [],
   "source": [
    "try:\n",
    "    # Generate data report for customers.csv\n",
    "    generate_data_report(\"../data/raw/customers.csv\")\n",
    "\n",
    "    # Generate data report for transactions.csv with a sample size of 10000\n",
    "    generate_data_report(\"../data/raw/transactions_train.csv\", sample_size=10000)\n",
    "\n",
    "    # Generate data report for articles.csv\n",
    "    generate_data_report(\"../data/raw/articles.csv\")\n",
    "\n",
    "except Exception as e:\n",
    "    print(f\"Error: {e}\")"
   ]
  }
 ],
 "metadata": {
  "kernelspec": {
   "display_name": ".venv",
   "language": "python",
   "name": "python3"
  },
  "language_info": {
   "codemirror_mode": {
    "name": "ipython",
    "version": 3
   },
   "file_extension": ".py",
   "mimetype": "text/x-python",
   "name": "python",
   "nbconvert_exporter": "python",
   "pygments_lexer": "ipython3",
   "version": "3.11.9"
  }
 },
 "nbformat": 4,
 "nbformat_minor": 5
}
