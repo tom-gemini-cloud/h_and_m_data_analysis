{
 "cells": [
  {
   "cell_type": "markdown",
   "id": "272cd2fe",
   "metadata": {},
   "source": [
    "# Article Feature Engineering\n"
   ]
  },
  {
   "cell_type": "code",
   "execution_count": 1,
   "id": "fd34a9c2",
   "metadata": {},
   "outputs": [],
   "source": [
    "import sys\n",
    "import os\n",
    "import polars as pl\n",
    "sys.path.append('../') \n",
    "from hnm_data_analysis.feature_engineering import ArticleDescriptionVectoriser\n",
    "from hnm_data_analysis.feature_engineering.articles_text_bert import ArticleDescriptionBertEmbedder\n",
    "from hnm_data_analysis.feature_engineering import CombinedBertArticleFeatures\n"
   ]
  },
  {
   "cell_type": "markdown",
   "id": "7c40052d",
   "metadata": {},
   "source": [
    "### Create a Feature using TF-IDF on detail_desc\n"
   ]
  },
  {
   "cell_type": "code",
   "execution_count": 2,
   "id": "3bf1ab33",
   "metadata": {},
   "outputs": [
    {
     "name": "stdout",
     "output_type": "stream",
     "text": [
      "Loading articles from: ../data/cleaned/articles_last_3_months_cleaned.parquet\n",
      "Articles with valid descriptions: 42,229\n",
      "Prepared cleaned texts: 42,229\n",
      "Fitting TF-IDF: max_features=30000, min_df=5, max_df=0.8, ngram_range=(1, 2)\n",
      "TF-IDF shape: 42,229 docs x 11,309 terms\n",
      "Fitting TruncatedSVD with n_components=200 ...\n",
      "SVD embeddings shape: 42,229 x 200\n",
      "Saving TF-IDF matrix to: ../data/features/tfidf_svd/tfidf_features.npz\n",
      "Saving vectorizer to: ../data/features/tfidf_svd/vectorizer.joblib\n",
      "Saving article_id index to: ../data/features/tfidf_svd/article_id_index.csv\n",
      "Saving SVD embeddings to: ../data/features/tfidf_svd/svd_embeddings.parquet\n",
      "Saving SVD model to: ../data/features/tfidf_svd/svd_model.joblib\n"
     ]
    }
   ],
   "source": [
    "vec = ArticleDescriptionVectoriser(\n",
    "    input_path=\"../data/cleaned/articles_last_3_months_cleaned.parquet\",\n",
    "    language=\"en\",\n",
    "    use_lemmatise=True,\n",
    "    use_stem=False,\n",
    ")\n",
    "tfidf, svd = vec.process(\n",
    "    output_dir=\"../data/features/tfidf_svd\",\n",
    "    include_svd=True,\n",
    "    svd_components=200,\n",
    "    max_features=30000, min_df=5, max_df=0.8, ngram_range=(1,2),\n",
    ")"
   ]
  },
  {
   "cell_type": "markdown",
   "id": "466a2631",
   "metadata": {},
   "source": [
    "### Create a Feature using BERT on detail_desc\n"
   ]
  },
  {
   "cell_type": "code",
   "execution_count": 2,
   "id": "c7b128d2",
   "metadata": {},
   "outputs": [
    {
     "name": "stdout",
     "output_type": "stream",
     "text": [
      "Loading articles from: ../data/cleaned/articles_last_3_months_cleaned.parquet\n",
      "Articles with valid descriptions: 42,229\n",
      "Prepared cleaned texts: 42,229\n"
     ]
    },
    {
     "name": "stderr",
     "output_type": "stream",
     "text": [
      "INFO:sentence_transformers.SentenceTransformer:Load pretrained SentenceTransformer: sentence-transformers/all-mpnet-base-v2\n"
     ]
    },
    {
     "name": "stdout",
     "output_type": "stream",
     "text": [
      "Loading BERT model: sentence-transformers/all-mpnet-base-v2\n"
     ]
    },
    {
     "data": {
      "application/vnd.jupyter.widget-view+json": {
       "model_id": "70ff6f0e7f4442499a8931a3f78cb2bd",
       "version_major": 2,
       "version_minor": 0
      },
      "text/plain": [
       "modules.json:   0%|          | 0.00/349 [00:00<?, ?B/s]"
      ]
     },
     "metadata": {},
     "output_type": "display_data"
    },
    {
     "data": {
      "application/vnd.jupyter.widget-view+json": {
       "model_id": "c70b0c5b745443b4b70c0bad1bb3dcdf",
       "version_major": 2,
       "version_minor": 0
      },
      "text/plain": [
       "config_sentence_transformers.json:   0%|          | 0.00/116 [00:00<?, ?B/s]"
      ]
     },
     "metadata": {},
     "output_type": "display_data"
    },
    {
     "data": {
      "application/vnd.jupyter.widget-view+json": {
       "model_id": "088ddede91bd4209950bad119e1a70cf",
       "version_major": 2,
       "version_minor": 0
      },
      "text/plain": [
       "README.md: 0.00B [00:00, ?B/s]"
      ]
     },
     "metadata": {},
     "output_type": "display_data"
    },
    {
     "data": {
      "application/vnd.jupyter.widget-view+json": {
       "model_id": "3bcb1780e64c41958dd6b04e2c0d043a",
       "version_major": 2,
       "version_minor": 0
      },
      "text/plain": [
       "sentence_bert_config.json:   0%|          | 0.00/53.0 [00:00<?, ?B/s]"
      ]
     },
     "metadata": {},
     "output_type": "display_data"
    },
    {
     "data": {
      "application/vnd.jupyter.widget-view+json": {
       "model_id": "2ea2cec1e6b2459b85ff44b82aa529a5",
       "version_major": 2,
       "version_minor": 0
      },
      "text/plain": [
       "config.json:   0%|          | 0.00/571 [00:00<?, ?B/s]"
      ]
     },
     "metadata": {},
     "output_type": "display_data"
    },
    {
     "data": {
      "application/vnd.jupyter.widget-view+json": {
       "model_id": "1e6821fdd3644cc9a1dac8403e10957c",
       "version_major": 2,
       "version_minor": 0
      },
      "text/plain": [
       "model.safetensors:   0%|          | 0.00/438M [00:00<?, ?B/s]"
      ]
     },
     "metadata": {},
     "output_type": "display_data"
    },
    {
     "data": {
      "application/vnd.jupyter.widget-view+json": {
       "model_id": "319888bf601145668cc84435ff18272c",
       "version_major": 2,
       "version_minor": 0
      },
      "text/plain": [
       "tokenizer_config.json:   0%|          | 0.00/363 [00:00<?, ?B/s]"
      ]
     },
     "metadata": {},
     "output_type": "display_data"
    },
    {
     "data": {
      "application/vnd.jupyter.widget-view+json": {
       "model_id": "18e8d06e633b40f481d685877e972cb7",
       "version_major": 2,
       "version_minor": 0
      },
      "text/plain": [
       "vocab.txt: 0.00B [00:00, ?B/s]"
      ]
     },
     "metadata": {},
     "output_type": "display_data"
    },
    {
     "data": {
      "application/vnd.jupyter.widget-view+json": {
       "model_id": "3f6c0f9e95cf45bf9892a51c172fb40e",
       "version_major": 2,
       "version_minor": 0
      },
      "text/plain": [
       "tokenizer.json: 0.00B [00:00, ?B/s]"
      ]
     },
     "metadata": {},
     "output_type": "display_data"
    },
    {
     "data": {
      "application/vnd.jupyter.widget-view+json": {
       "model_id": "8a91624756934e2880dbe4cd3af31f0d",
       "version_major": 2,
       "version_minor": 0
      },
      "text/plain": [
       "special_tokens_map.json:   0%|          | 0.00/239 [00:00<?, ?B/s]"
      ]
     },
     "metadata": {},
     "output_type": "display_data"
    },
    {
     "data": {
      "application/vnd.jupyter.widget-view+json": {
       "model_id": "03e3f66e7d174fe19ed58c384638dfb5",
       "version_major": 2,
       "version_minor": 0
      },
      "text/plain": [
       "config.json:   0%|          | 0.00/190 [00:00<?, ?B/s]"
      ]
     },
     "metadata": {},
     "output_type": "display_data"
    },
    {
     "name": "stdout",
     "output_type": "stream",
     "text": [
      "Model loaded on device: cpu\n",
      "Generating BERT embeddings for 42,229 texts...\n",
      "Model: sentence-transformers/all-mpnet-base-v2, Max length: 256, Batch size: 16\n"
     ]
    },
    {
     "data": {
      "application/vnd.jupyter.widget-view+json": {
       "model_id": "86d402f7d7c2407a85f0fc9763bd7bcb",
       "version_major": 2,
       "version_minor": 0
      },
      "text/plain": [
       "Batches:   0%|          | 0/2640 [00:00<?, ?it/s]"
      ]
     },
     "metadata": {},
     "output_type": "display_data"
    },
    {
     "name": "stdout",
     "output_type": "stream",
     "text": [
      "BERT embeddings shape: 42,229 docs x 768 dimensions\n",
      "Fitting PCA with n_components=50 ...\n",
      "PCA embeddings shape: 42,229 x 50\n",
      "Explained variance ratio: 0.793\n",
      "Saving BERT embeddings to: ../data/features/bert/bert_embeddings.parquet\n",
      "Saving model info to: ../data/features/bert/bert_model_info.json\n",
      "Saving article_id index to: ../data/features/bert/article_id_index.csv\n",
      "Saving PCA embeddings to: ../data/features/bert/pca_embeddings.parquet\n",
      "Saving PCA model to: ../data/features/bert/pca_model.joblib\n"
     ]
    }
   ],
   "source": [
    "bert_embedder = ArticleDescriptionBertEmbedder(\n",
    "    input_path=\"../data/cleaned/articles_last_3_months_cleaned.parquet\",\n",
    "    model_name=\"sentence-transformers/all-mpnet-base-v2\",\n",
    "    max_length=256,\n",
    "    batch_size=16,\n",
    "    device=\"auto\",  # Uses GPU if available\n",
    ")\n",
    "bert_embeddings, pca_embeddings = bert_embedder.process(\n",
    "    output_dir=\"../data/features/bert\",\n",
    "    include_pca=True,\n",
    "    pca_components=50,\n",
    "    pca_normalize=True,\n",
    "    show_progress_bar=True,\n",
    ")"
   ]
  },
  {
   "cell_type": "markdown",
   "id": "216246e4",
   "metadata": {},
   "source": [
    "### Combine the BERT Vector Feature with data\\cleaned\\articles_last_3_months_cleaned.parquet\n"
   ]
  },
  {
   "cell_type": "code",
   "execution_count": null,
   "id": "c8739a6b",
   "metadata": {},
   "outputs": [],
   "source": [
    "os.chdir(\"..\") \n",
    "# Combine the BERT Vector Feature with data\\cleaned\\articles_last_3_months_cleaned.parquet\n",
    "# Combine cleaned articles + BERT embeddings and save to data/features/combined/\n",
    "job = CombinedBertArticleFeatures()  # uses module defaults\n",
    "out_path = job.run()\n",
    "\n",
    "# Load and inspect\n",
    "df = pl.read_parquet(out_path)\n",
    "df.head()"
   ]
  }
 ],
 "metadata": {
  "kernelspec": {
   "display_name": ".venv",
   "language": "python",
   "name": "python3"
  },
  "language_info": {
   "codemirror_mode": {
    "name": "ipython",
    "version": 3
   },
   "file_extension": ".py",
   "mimetype": "text/x-python",
   "name": "python",
   "nbconvert_exporter": "python",
   "pygments_lexer": "ipython3",
   "version": "3.11.9"
  }
 },
 "nbformat": 4,
 "nbformat_minor": 5
}
