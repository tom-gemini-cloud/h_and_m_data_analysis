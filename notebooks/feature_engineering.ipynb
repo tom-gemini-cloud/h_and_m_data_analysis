{
 "cells": [
  {
   "cell_type": "markdown",
   "id": "272cd2fe",
   "metadata": {},
   "source": [
    "# Feature Engineering\n"
   ]
  },
  {
   "cell_type": "code",
   "execution_count": 1,
   "id": "fd34a9c2",
   "metadata": {},
   "outputs": [],
   "source": [
    "import sys\n",
    "sys.path.append('../') \n",
    "from hnm_data_analysis.feature_engineering import ArticleDescriptionVectoriser\n",
    "from hnm_data_analysis.feature_engineering.articles_text_bert import ArticleDescriptionBertEmbedder"
   ]
  },
  {
   "cell_type": "markdown",
   "id": "7c40052d",
   "metadata": {},
   "source": [
    "### Create a Feature using TF-IDF on detail_desc\n"
   ]
  },
  {
   "cell_type": "code",
   "execution_count": 2,
   "id": "3bf1ab33",
   "metadata": {},
   "outputs": [
    {
     "name": "stdout",
     "output_type": "stream",
     "text": [
      "Loading articles from: ../data/cleaned/articles_last_3_months_cleaned.parquet\n",
      "Articles with valid descriptions: 42,229\n",
      "Prepared cleaned texts: 42,229\n",
      "Fitting TF-IDF: max_features=30000, min_df=5, max_df=0.8, ngram_range=(1, 2)\n",
      "TF-IDF shape: 42,229 docs x 11,309 terms\n",
      "Fitting TruncatedSVD with n_components=200 ...\n",
      "SVD embeddings shape: 42,229 x 200\n",
      "Saving TF-IDF matrix to: ../data/features/tfidf_svd\\tfidf_features.npz\n",
      "Saving vectorizer to: ../data/features/tfidf_svd\\vectorizer.joblib\n",
      "Saving article_id index to: ../data/features/tfidf_svd\\article_id_index.csv\n",
      "Saving SVD embeddings to: ../data/features/tfidf_svd\\svd_embeddings.parquet\n",
      "Saving SVD model to: ../data/features/tfidf_svd\\svd_model.joblib\n"
     ]
    }
   ],
   "source": [
    "vec = ArticleDescriptionVectoriser(\n",
    "    input_path=\"../data/cleaned/articles_last_3_months_cleaned.parquet\",\n",
    "    language=\"en\",\n",
    "    use_lemmatise=True,\n",
    "    use_stem=False,\n",
    ")\n",
    "tfidf, svd = vec.process(\n",
    "    output_dir=\"../data/features/tfidf_svd\",\n",
    "    include_svd=True,\n",
    "    svd_components=200,\n",
    "    max_features=30000, min_df=5, max_df=0.8, ngram_range=(1,2),\n",
    ")"
   ]
  },
  {
   "cell_type": "markdown",
   "id": "466a2631",
   "metadata": {},
   "source": [
    "### Create a Feature using BERT on detail_desc\n"
   ]
  },
  {
   "cell_type": "code",
   "execution_count": 3,
   "id": "c7b128d2",
   "metadata": {},
   "outputs": [
    {
     "name": "stdout",
     "output_type": "stream",
     "text": [
      "Loading articles from: ../data/cleaned/articles_last_3_months_cleaned.parquet\n",
      "Articles with valid descriptions: 42,229\n",
      "Prepared cleaned texts: 42,229\n"
     ]
    },
    {
     "name": "stderr",
     "output_type": "stream",
     "text": [
      "INFO:sentence_transformers.SentenceTransformer:Load pretrained SentenceTransformer: all-MiniLM-L6-v2\n"
     ]
    },
    {
     "name": "stdout",
     "output_type": "stream",
     "text": [
      "Loading BERT model: all-MiniLM-L6-v2\n",
      "Model loaded on device: cpu\n",
      "Generating BERT embeddings for 42,229 texts...\n",
      "Model: all-MiniLM-L6-v2, Max length: 128, Batch size: 32\n"
     ]
    },
    {
     "data": {
      "application/vnd.jupyter.widget-view+json": {
       "model_id": "414119b25dc7483c9a13aaa5e82dde92",
       "version_major": 2,
       "version_minor": 0
      },
      "text/plain": [
       "Batches:   0%|          | 0/1320 [00:00<?, ?it/s]"
      ]
     },
     "metadata": {},
     "output_type": "display_data"
    },
    {
     "name": "stdout",
     "output_type": "stream",
     "text": [
      "BERT embeddings shape: 42,229 docs x 384 dimensions\n",
      "Fitting PCA with n_components=200 ...\n",
      "PCA embeddings shape: 42,229 x 200\n",
      "Explained variance ratio: 0.979\n",
      "Saving BERT embeddings to: ../data/features/bert\\bert_embeddings.parquet\n",
      "Saving model info to: ../data/features/bert\\bert_model_info.json\n",
      "Saving article_id index to: ../data/features/bert\\article_id_index.csv\n",
      "Saving PCA embeddings to: ../data/features/bert\\pca_embeddings.parquet\n",
      "Saving PCA model to: ../data/features/bert\\pca_model.joblib\n"
     ]
    }
   ],
   "source": [
    "bert_embedder = ArticleDescriptionBertEmbedder(\n",
    "    input_path=\"../data/cleaned/articles_last_3_months_cleaned.parquet\",\n",
    "    model_name=\"all-MiniLM-L6-v2\",  # Fast, good quality model\n",
    "    batch_size=32,\n",
    "    device=\"auto\",  # Uses GPU if available\n",
    ")\n",
    "bert_embeddings, pca_embeddings = bert_embedder.process(\n",
    "    output_dir=\"../data/features/bert\",\n",
    "    include_pca=True,\n",
    "    pca_components=200,\n",
    "    pca_normalize=True,\n",
    "    show_progress_bar=True,\n",
    ")"
   ]
  }
 ],
 "metadata": {
  "kernelspec": {
   "display_name": ".venv",
   "language": "python",
   "name": "python3"
  },
  "language_info": {
   "codemirror_mode": {
    "name": "ipython",
    "version": 3
   },
   "file_extension": ".py",
   "mimetype": "text/x-python",
   "name": "python",
   "nbconvert_exporter": "python",
   "pygments_lexer": "ipython3",
   "version": "3.11.9"
  }
 },
 "nbformat": 4,
 "nbformat_minor": 5
}
