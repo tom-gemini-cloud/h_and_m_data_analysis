{
 "cells": [
  {
   "cell_type": "markdown",
   "id": "272cd2fe",
   "metadata": {},
   "source": [
    "# Feature Engineering\n"
   ]
  },
  {
   "cell_type": "markdown",
   "id": "7c40052d",
   "metadata": {},
   "source": [
    "### Create a Feature using TF-IDF on detail_desc\n"
   ]
  },
  {
   "cell_type": "code",
   "execution_count": 1,
   "id": "fd34a9c2",
   "metadata": {},
   "outputs": [],
   "source": [
    "import sys\n",
    "sys.path.append('../') \n",
    "from hnm_data_analysis.feature_engineering import ArticleDescriptionVectoriser"
   ]
  },
  {
   "cell_type": "code",
   "execution_count": 2,
   "id": "3bf1ab33",
   "metadata": {},
   "outputs": [
    {
     "name": "stdout",
     "output_type": "stream",
     "text": [
      "Loading articles from: ../data/cleaned/articles_last_3_months_cleaned.parquet\n",
      "Articles with valid descriptions: 42,229\n",
      "Prepared cleaned texts: 42,229\n",
      "Fitting TF-IDF: max_features=30000, min_df=5, max_df=0.8, ngram_range=(1, 2)\n",
      "TF-IDF shape: 42,229 docs x 11,309 terms\n",
      "Fitting TruncatedSVD with n_components=200 ...\n",
      "SVD embeddings shape: 42,229 x 200\n",
      "Saving TF-IDF matrix to: ../data/processed/features\\tfidf_features.npz\n",
      "Saving vectorizer to: ../data/processed/features\\vectorizer.joblib\n",
      "Saving article_id index to: ../data/processed/features\\article_id_index.csv\n",
      "Saving SVD embeddings to: ../data/processed/features\\svd_embeddings.parquet\n",
      "Saving SVD model to: ../data/processed/features\\svd_model.joblib\n"
     ]
    }
   ],
   "source": [
    "vec = ArticleDescriptionVectoriser(\n",
    "    input_path=\"../data/cleaned/articles_last_3_months_cleaned.parquet\",\n",
    "    language=\"en\",\n",
    "    use_lemmatise=True,\n",
    "    use_stem=False,\n",
    ")\n",
    "tfidf, svd = vec.process(\n",
    "    output_dir=\"../data/processed/features\",\n",
    "    include_svd=True,\n",
    "    svd_components=200,\n",
    "    max_features=30000, min_df=5, max_df=0.8, ngram_range=(1,2),\n",
    ")"
   ]
  }
 ],
 "metadata": {
  "kernelspec": {
   "display_name": ".venv",
   "language": "python",
   "name": "python3"
  },
  "language_info": {
   "codemirror_mode": {
    "name": "ipython",
    "version": 3
   },
   "file_extension": ".py",
   "mimetype": "text/x-python",
   "name": "python",
   "nbconvert_exporter": "python",
   "pygments_lexer": "ipython3",
   "version": "3.11.9"
  }
 },
 "nbformat": 4,
 "nbformat_minor": 5
}
