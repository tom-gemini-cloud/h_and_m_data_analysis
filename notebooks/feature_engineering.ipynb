{
 "cells": [
  {
   "cell_type": "markdown",
   "id": "272cd2fe",
   "metadata": {},
   "source": [
    "# Feature Engineering\n"
   ]
  },
  {
   "cell_type": "code",
   "execution_count": 1,
   "id": "fd34a9c2",
   "metadata": {},
   "outputs": [],
   "source": [
    "import sys\n",
    "import os\n",
    "import polars as pl\n",
    "sys.path.append('../') \n",
    "from hnm_data_analysis.feature_engineering import ArticleDescriptionVectoriser\n",
    "from hnm_data_analysis.feature_engineering.articles_text_bert import ArticleDescriptionBertEmbedder\n",
    "from hnm_data_analysis.feature_engineering import CombinedBertArticleFeatures\n"
   ]
  },
  {
   "cell_type": "markdown",
   "id": "7c40052d",
   "metadata": {},
   "source": [
    "### Create a Feature using TF-IDF on detail_desc\n"
   ]
  },
  {
   "cell_type": "code",
   "execution_count": 2,
   "id": "3bf1ab33",
   "metadata": {},
   "outputs": [
    {
     "name": "stdout",
     "output_type": "stream",
     "text": [
      "Loading articles from: ../data/cleaned/articles_last_3_months_cleaned.parquet\n",
      "Articles with valid descriptions: 42,229\n",
      "Prepared cleaned texts: 42,229\n",
      "Fitting TF-IDF: max_features=30000, min_df=5, max_df=0.8, ngram_range=(1, 2)\n",
      "TF-IDF shape: 42,229 docs x 11,309 terms\n",
      "Fitting TruncatedSVD with n_components=200 ...\n",
      "SVD embeddings shape: 42,229 x 200\n",
      "Saving TF-IDF matrix to: ../data/features/tfidf_svd\\tfidf_features.npz\n",
      "Saving vectorizer to: ../data/features/tfidf_svd\\vectorizer.joblib\n",
      "Saving article_id index to: ../data/features/tfidf_svd\\article_id_index.csv\n",
      "Saving SVD embeddings to: ../data/features/tfidf_svd\\svd_embeddings.parquet\n",
      "Saving SVD model to: ../data/features/tfidf_svd\\svd_model.joblib\n"
     ]
    }
   ],
   "source": [
    "vec = ArticleDescriptionVectoriser(\n",
    "    input_path=\"../data/cleaned/articles_last_3_months_cleaned.parquet\",\n",
    "    language=\"en\",\n",
    "    use_lemmatise=True,\n",
    "    use_stem=False,\n",
    ")\n",
    "tfidf, svd = vec.process(\n",
    "    output_dir=\"../data/features/tfidf_svd\",\n",
    "    include_svd=True,\n",
    "    svd_components=200,\n",
    "    max_features=30000, min_df=5, max_df=0.8, ngram_range=(1,2),\n",
    ")"
   ]
  },
  {
   "cell_type": "markdown",
   "id": "466a2631",
   "metadata": {},
   "source": [
    "### Create a Feature using BERT on detail_desc\n"
   ]
  },
  {
   "cell_type": "code",
   "execution_count": 3,
   "id": "c7b128d2",
   "metadata": {},
   "outputs": [
    {
     "name": "stdout",
     "output_type": "stream",
     "text": [
      "Loading articles from: ../data/cleaned/articles_last_3_months_cleaned.parquet\n",
      "Articles with valid descriptions: 42,229\n",
      "Prepared cleaned texts: 42,229\n"
     ]
    },
    {
     "name": "stderr",
     "output_type": "stream",
     "text": [
      "INFO:sentence_transformers.SentenceTransformer:Load pretrained SentenceTransformer: sentence-transformers/all-mpnet-base-v2\n"
     ]
    },
    {
     "name": "stdout",
     "output_type": "stream",
     "text": [
      "Loading BERT model: sentence-transformers/all-mpnet-base-v2\n",
      "Model loaded on device: cpu\n",
      "Generating BERT embeddings for 42,229 texts...\n",
      "Model: sentence-transformers/all-mpnet-base-v2, Max length: 256, Batch size: 16\n"
     ]
    },
    {
     "data": {
      "application/vnd.jupyter.widget-view+json": {
       "model_id": "521ca42fadf945f1b7dbe46d369107d0",
       "version_major": 2,
       "version_minor": 0
      },
      "text/plain": [
       "Batches:   0%|          | 0/2640 [00:00<?, ?it/s]"
      ]
     },
     "metadata": {},
     "output_type": "display_data"
    },
    {
     "name": "stdout",
     "output_type": "stream",
     "text": [
      "BERT embeddings shape: 42,229 docs x 768 dimensions\n",
      "Fitting PCA with n_components=50 ...\n",
      "PCA embeddings shape: 42,229 x 50\n",
      "Explained variance ratio: 0.793\n",
      "Saving BERT embeddings to: ../data/features/bert\\bert_embeddings.parquet\n",
      "Saving model info to: ../data/features/bert\\bert_model_info.json\n",
      "Saving article_id index to: ../data/features/bert\\article_id_index.csv\n",
      "Saving PCA embeddings to: ../data/features/bert\\pca_embeddings.parquet\n",
      "Saving PCA model to: ../data/features/bert\\pca_model.joblib\n"
     ]
    }
   ],
   "source": [
    "bert_embedder = ArticleDescriptionBertEmbedder(\n",
    "    input_path=\"../data/cleaned/articles_last_3_months_cleaned.parquet\",\n",
    "    model_name=\"sentence-transformers/all-mpnet-base-v2\",\n",
    "    max_length=256,\n",
    "    batch_size=16,\n",
    "    device=\"auto\",  # Uses GPU if available\n",
    ")\n",
    "bert_embeddings, pca_embeddings = bert_embedder.process(\n",
    "    output_dir=\"../data/features/bert\",\n",
    "    include_pca=True,\n",
    "    pca_components=50,\n",
    "    pca_normalize=True,\n",
    "    show_progress_bar=True,\n",
    ")"
   ]
  },
  {
   "cell_type": "markdown",
   "id": "216246e4",
   "metadata": {},
   "source": [
    "### Combine the BERT Vector Feature with data\\cleaned\\articles_last_3_months_cleaned.parquet\n"
   ]
  },
  {
   "cell_type": "code",
   "execution_count": 4,
   "id": "c8739a6b",
   "metadata": {},
   "outputs": [
    {
     "name": "stdout",
     "output_type": "stream",
     "text": [
      "Loaded cleaned articles: (42298, 28)\n",
      "Loaded BERT embeddings: (42229, 769)\n",
      "Combined dataset shape: (42229, 776)\n",
      "Articles with embeddings and metadata: 42,229\n",
      "Saved combined dataset to: data/features/combined\\articles_with_bert_embeddings.parquet\n"
     ]
    },
    {
     "data": {
      "text/html": [
       "<div><style>\n",
       ".dataframe > thead > tr,\n",
       ".dataframe > tbody > tr {\n",
       "  text-align: right;\n",
       "  white-space: pre-wrap;\n",
       "}\n",
       "</style>\n",
       "<small>shape: (5, 776)</small><table border=\"1\" class=\"dataframe\"><thead><tr><th>article_id</th><th>bert_001</th><th>bert_002</th><th>bert_003</th><th>bert_004</th><th>bert_005</th><th>bert_006</th><th>bert_007</th><th>bert_008</th><th>bert_009</th><th>bert_010</th><th>bert_011</th><th>bert_012</th><th>bert_013</th><th>bert_014</th><th>bert_015</th><th>bert_016</th><th>bert_017</th><th>bert_018</th><th>bert_019</th><th>bert_020</th><th>bert_021</th><th>bert_022</th><th>bert_023</th><th>bert_024</th><th>bert_025</th><th>bert_026</th><th>bert_027</th><th>bert_028</th><th>bert_029</th><th>bert_030</th><th>bert_031</th><th>bert_032</th><th>bert_033</th><th>bert_034</th><th>bert_035</th><th>bert_036</th><th>&hellip;</th><th>bert_739</th><th>bert_740</th><th>bert_741</th><th>bert_742</th><th>bert_743</th><th>bert_744</th><th>bert_745</th><th>bert_746</th><th>bert_747</th><th>bert_748</th><th>bert_749</th><th>bert_750</th><th>bert_751</th><th>bert_752</th><th>bert_753</th><th>bert_754</th><th>bert_755</th><th>bert_756</th><th>bert_757</th><th>bert_758</th><th>bert_759</th><th>bert_760</th><th>bert_761</th><th>bert_762</th><th>bert_763</th><th>bert_764</th><th>bert_765</th><th>bert_766</th><th>bert_767</th><th>bert_768</th><th>product_type_name</th><th>product_group_name</th><th>department_name</th><th>section_name</th><th>garment_group_name</th><th>colour_group_name</th><th>graphical_appearance_name</th></tr><tr><td>i64</td><td>f32</td><td>f32</td><td>f32</td><td>f32</td><td>f32</td><td>f32</td><td>f32</td><td>f32</td><td>f32</td><td>f32</td><td>f32</td><td>f32</td><td>f32</td><td>f32</td><td>f32</td><td>f32</td><td>f32</td><td>f32</td><td>f32</td><td>f32</td><td>f32</td><td>f32</td><td>f32</td><td>f32</td><td>f32</td><td>f32</td><td>f32</td><td>f32</td><td>f32</td><td>f32</td><td>f32</td><td>f32</td><td>f32</td><td>f32</td><td>f32</td><td>f32</td><td>&hellip;</td><td>f32</td><td>f32</td><td>f32</td><td>f32</td><td>f32</td><td>f32</td><td>f32</td><td>f32</td><td>f32</td><td>f32</td><td>f32</td><td>f32</td><td>f32</td><td>f32</td><td>f32</td><td>f32</td><td>f32</td><td>f32</td><td>f32</td><td>f32</td><td>f32</td><td>f32</td><td>f32</td><td>f32</td><td>f32</td><td>f32</td><td>f32</td><td>f32</td><td>f32</td><td>f32</td><td>cat</td><td>cat</td><td>cat</td><td>cat</td><td>cat</td><td>cat</td><td>cat</td></tr></thead><tbody><tr><td>816591001</td><td>-0.015659</td><td>0.012156</td><td>0.010178</td><td>-0.006604</td><td>-0.039259</td><td>-0.018793</td><td>-0.007029</td><td>0.054467</td><td>-0.034701</td><td>-0.008512</td><td>0.070179</td><td>0.018095</td><td>0.034471</td><td>0.033576</td><td>0.094397</td><td>0.003092</td><td>-0.055582</td><td>0.002851</td><td>0.051617</td><td>-0.005365</td><td>0.025957</td><td>0.020131</td><td>0.000646</td><td>-0.001181</td><td>0.010801</td><td>-0.036969</td><td>-0.010229</td><td>0.040888</td><td>-0.005502</td><td>-0.000103</td><td>0.076183</td><td>-0.012406</td><td>-0.023416</td><td>-0.068657</td><td>0.000002</td><td>-0.000894</td><td>&hellip;</td><td>0.005918</td><td>0.022829</td><td>-0.047841</td><td>0.02728</td><td>0.004846</td><td>-0.004082</td><td>0.018529</td><td>0.02017</td><td>0.014933</td><td>0.021912</td><td>-0.020965</td><td>0.006171</td><td>0.053716</td><td>0.008077</td><td>0.046846</td><td>0.024844</td><td>0.010362</td><td>0.006734</td><td>1.9350e-34</td><td>-0.009219</td><td>-0.127457</td><td>0.013274</td><td>0.050405</td><td>0.011029</td><td>0.002934</td><td>0.070942</td><td>0.027207</td><td>-0.000197</td><td>-0.013809</td><td>0.006784</td><td>&quot;T-shirt&quot;</td><td>&quot;Garment Upper body&quot;</td><td>&quot;Tops Fancy Jersey&quot;</td><td>&quot;Divided Collection&quot;</td><td>&quot;Jersey Fancy&quot;</td><td>&quot;Dark Blue&quot;</td><td>&quot;Stripe&quot;</td></tr><tr><td>804472003</td><td>0.005563</td><td>0.005978</td><td>-0.026642</td><td>0.002938</td><td>-0.027864</td><td>0.003424</td><td>0.001553</td><td>0.018717</td><td>0.018902</td><td>-0.004157</td><td>0.000965</td><td>0.015299</td><td>0.05248</td><td>0.112323</td><td>0.072043</td><td>-0.03552</td><td>-0.022659</td><td>-0.012899</td><td>0.003428</td><td>-0.026845</td><td>0.022018</td><td>0.038685</td><td>-0.010421</td><td>0.027536</td><td>0.012282</td><td>-0.034946</td><td>0.002565</td><td>0.000958</td><td>0.002286</td><td>0.025895</td><td>0.094062</td><td>0.00401</td><td>-0.036547</td><td>-0.048726</td><td>0.000002</td><td>-0.018688</td><td>&hellip;</td><td>0.051404</td><td>-0.018781</td><td>-0.077134</td><td>-0.013477</td><td>0.010288</td><td>0.006449</td><td>0.014299</td><td>0.07041</td><td>0.00431</td><td>0.037104</td><td>0.004784</td><td>-0.076596</td><td>0.022273</td><td>0.029969</td><td>0.049993</td><td>0.0013</td><td>-0.007544</td><td>0.011644</td><td>1.9875e-34</td><td>0.019272</td><td>-0.066649</td><td>0.023891</td><td>0.003674</td><td>0.029417</td><td>0.015441</td><td>0.041853</td><td>-0.015929</td><td>0.024076</td><td>0.007616</td><td>-0.000851</td><td>&quot;Sneakers&quot;</td><td>&quot;Shoes&quot;</td><td>&quot;Kids Boy Shoes&quot;</td><td>&quot;Kids &amp; Baby Shoes&quot;</td><td>&quot;Shoes&quot;</td><td>&quot;Black&quot;</td><td>&quot;Solid&quot;</td></tr><tr><td>693915001</td><td>-0.035382</td><td>0.025676</td><td>0.020326</td><td>-0.009956</td><td>-0.0252</td><td>-0.040034</td><td>-0.055042</td><td>0.048816</td><td>-0.043896</td><td>-0.034095</td><td>0.014015</td><td>0.03632</td><td>0.052355</td><td>0.040688</td><td>0.101161</td><td>-0.017168</td><td>-0.015411</td><td>-0.030049</td><td>-0.02938</td><td>0.001041</td><td>0.012573</td><td>0.01813</td><td>-0.010806</td><td>-0.000751</td><td>0.039573</td><td>-0.036114</td><td>-0.030136</td><td>0.002133</td><td>-0.019197</td><td>0.039195</td><td>0.090534</td><td>0.003774</td><td>-0.002759</td><td>-0.079025</td><td>0.000002</td><td>-0.008549</td><td>&hellip;</td><td>0.024847</td><td>0.006655</td><td>-0.064195</td><td>-0.015331</td><td>0.021835</td><td>-0.000923</td><td>-0.008696</td><td>0.052818</td><td>-0.006522</td><td>-0.001527</td><td>-0.018466</td><td>-0.047959</td><td>0.0397</td><td>0.023257</td><td>0.051558</td><td>0.017016</td><td>0.046344</td><td>0.002421</td><td>1.5923e-34</td><td>0.016653</td><td>-0.02932</td><td>-0.005469</td><td>0.051259</td><td>0.01495</td><td>0.000143</td><td>-0.002265</td><td>-0.006005</td><td>0.03819</td><td>-0.028675</td><td>-0.008054</td><td>&quot;Trousers&quot;</td><td>&quot;Garment Lower body&quot;</td><td>&quot;Trousers &amp; Skirt&quot;</td><td>&quot;Womens Trend&quot;</td><td>&quot;Trousers&quot;</td><td>&quot;Beige&quot;</td><td>&quot;Check&quot;</td></tr><tr><td>790904007</td><td>-0.035949</td><td>0.046203</td><td>0.011405</td><td>0.01268</td><td>-0.055287</td><td>-0.026921</td><td>-0.039075</td><td>0.056623</td><td>-0.054116</td><td>-0.03501</td><td>0.011305</td><td>0.007535</td><td>0.039332</td><td>0.022054</td><td>0.082046</td><td>-0.000029</td><td>-0.024672</td><td>-0.010841</td><td>-0.049222</td><td>-0.01248</td><td>-0.003162</td><td>-0.002767</td><td>-0.001446</td><td>-0.001519</td><td>0.064139</td><td>-0.011927</td><td>-0.056071</td><td>-0.008529</td><td>-0.008399</td><td>0.05896</td><td>0.06918</td><td>0.020556</td><td>-0.025252</td><td>-0.053308</td><td>0.000002</td><td>-0.013209</td><td>&hellip;</td><td>0.038971</td><td>0.031761</td><td>-0.053834</td><td>-0.029495</td><td>0.005277</td><td>-0.004412</td><td>-0.029428</td><td>0.054736</td><td>-0.018975</td><td>0.00354</td><td>-0.011066</td><td>-0.045968</td><td>0.013938</td><td>0.019726</td><td>0.035718</td><td>0.028495</td><td>0.006232</td><td>0.005376</td><td>1.6376e-34</td><td>0.02205</td><td>-0.03512</td><td>-0.017729</td><td>0.066212</td><td>0.005572</td><td>-0.005966</td><td>0.043238</td><td>-0.018493</td><td>0.046377</td><td>-0.029211</td><td>-0.009323</td><td>&quot;Trousers&quot;</td><td>&quot;Garment Lower body&quot;</td><td>&quot;Trouser&quot;</td><td>&quot;Contemporary Casual&quot;</td><td>&quot;Trousers&quot;</td><td>&quot;Beige&quot;</td><td>&quot;Solid&quot;</td></tr><tr><td>829618001</td><td>0.017185</td><td>0.015238</td><td>-0.031034</td><td>-0.029762</td><td>-0.018644</td><td>0.06515</td><td>0.003714</td><td>0.017217</td><td>-0.035679</td><td>0.018255</td><td>0.008036</td><td>-0.006915</td><td>0.024826</td><td>0.095959</td><td>0.044352</td><td>-0.028764</td><td>-0.048612</td><td>0.0308</td><td>-0.001608</td><td>0.015041</td><td>0.013765</td><td>0.01781</td><td>-0.039813</td><td>-0.011494</td><td>0.061811</td><td>-0.066379</td><td>-0.017043</td><td>0.05007</td><td>-0.007313</td><td>0.00322</td><td>0.054836</td><td>-0.051389</td><td>-0.010636</td><td>-0.057132</td><td>0.000001</td><td>-0.014798</td><td>&hellip;</td><td>0.018852</td><td>0.026622</td><td>-0.048741</td><td>-0.015574</td><td>-0.038639</td><td>0.009846</td><td>-0.0049</td><td>0.0019</td><td>0.021045</td><td>0.030472</td><td>0.040846</td><td>-0.046962</td><td>0.016626</td><td>-0.038583</td><td>0.08201</td><td>0.033284</td><td>-0.101032</td><td>-0.014251</td><td>7.8660e-35</td><td>0.005772</td><td>-0.061571</td><td>-0.012571</td><td>0.011222</td><td>0.010149</td><td>-0.01142</td><td>-0.007657</td><td>-0.03718</td><td>0.034058</td><td>0.008531</td><td>0.011802</td><td>&quot;Bra&quot;</td><td>&quot;Underwear&quot;</td><td>&quot;Expressive Lingerie&quot;</td><td>&quot;Womens Lingerie&quot;</td><td>&quot;Under-, Nightwear&quot;</td><td>&quot;White&quot;</td><td>&quot;Solid&quot;</td></tr></tbody></table></div>"
      ],
      "text/plain": [
       "shape: (5, 776)\n",
       "┌───────────┬───────────┬──────────┬───────────┬───┬───────────┬───────────┬───────────┬───────────┐\n",
       "│ article_i ┆ bert_001  ┆ bert_002 ┆ bert_003  ┆ … ┆ section_n ┆ garment_g ┆ colour_gr ┆ graphical │\n",
       "│ d         ┆ ---       ┆ ---      ┆ ---       ┆   ┆ ame       ┆ roup_name ┆ oup_name  ┆ _appearan │\n",
       "│ ---       ┆ f32       ┆ f32      ┆ f32       ┆   ┆ ---       ┆ ---       ┆ ---       ┆ ce_name   │\n",
       "│ i64       ┆           ┆          ┆           ┆   ┆ cat       ┆ cat       ┆ cat       ┆ ---       │\n",
       "│           ┆           ┆          ┆           ┆   ┆           ┆           ┆           ┆ cat       │\n",
       "╞═══════════╪═══════════╪══════════╪═══════════╪═══╪═══════════╪═══════════╪═══════════╪═══════════╡\n",
       "│ 816591001 ┆ -0.015659 ┆ 0.012156 ┆ 0.010178  ┆ … ┆ Divided   ┆ Jersey    ┆ Dark Blue ┆ Stripe    │\n",
       "│           ┆           ┆          ┆           ┆   ┆ Collectio ┆ Fancy     ┆           ┆           │\n",
       "│           ┆           ┆          ┆           ┆   ┆ n         ┆           ┆           ┆           │\n",
       "│ 804472003 ┆ 0.005563  ┆ 0.005978 ┆ -0.026642 ┆ … ┆ Kids &    ┆ Shoes     ┆ Black     ┆ Solid     │\n",
       "│           ┆           ┆          ┆           ┆   ┆ Baby      ┆           ┆           ┆           │\n",
       "│           ┆           ┆          ┆           ┆   ┆ Shoes     ┆           ┆           ┆           │\n",
       "│ 693915001 ┆ -0.035382 ┆ 0.025676 ┆ 0.020326  ┆ … ┆ Womens    ┆ Trousers  ┆ Beige     ┆ Check     │\n",
       "│           ┆           ┆          ┆           ┆   ┆ Trend     ┆           ┆           ┆           │\n",
       "│ 790904007 ┆ -0.035949 ┆ 0.046203 ┆ 0.011405  ┆ … ┆ Contempor ┆ Trousers  ┆ Beige     ┆ Solid     │\n",
       "│           ┆           ┆          ┆           ┆   ┆ ary       ┆           ┆           ┆           │\n",
       "│           ┆           ┆          ┆           ┆   ┆ Casual    ┆           ┆           ┆           │\n",
       "│ 829618001 ┆ 0.017185  ┆ 0.015238 ┆ -0.031034 ┆ … ┆ Womens    ┆ Under-,   ┆ White     ┆ Solid     │\n",
       "│           ┆           ┆          ┆           ┆   ┆ Lingerie  ┆ Nightwear ┆           ┆           │\n",
       "└───────────┴───────────┴──────────┴───────────┴───┴───────────┴───────────┴───────────┴───────────┘"
      ]
     },
     "execution_count": 4,
     "metadata": {},
     "output_type": "execute_result"
    }
   ],
   "source": [
    "os.chdir(\"..\") \n",
    "# Combine the BERT Vector Feature with data\\cleaned\\articles_last_3_months_cleaned.parquet\n",
    "# Combine cleaned articles + BERT embeddings and save to data/features/combined/\n",
    "job = CombinedBertArticleFeatures()  # uses module defaults\n",
    "out_path = job.run()\n",
    "\n",
    "# Load and inspect\n",
    "df = pl.read_parquet(out_path)\n",
    "df.head()"
   ]
  }
 ],
 "metadata": {
  "kernelspec": {
   "display_name": ".venv",
   "language": "python",
   "name": "python3"
  },
  "language_info": {
   "codemirror_mode": {
    "name": "ipython",
    "version": 3
   },
   "file_extension": ".py",
   "mimetype": "text/x-python",
   "name": "python",
   "nbconvert_exporter": "python",
   "pygments_lexer": "ipython3",
   "version": "3.11.9"
  }
 },
 "nbformat": 4,
 "nbformat_minor": 5
}
