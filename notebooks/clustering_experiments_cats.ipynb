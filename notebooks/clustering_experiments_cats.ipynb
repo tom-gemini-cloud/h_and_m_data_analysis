{
 "cells": [
  {
   "cell_type": "markdown",
   "metadata": {},
   "source": [
    "# Clustering Experiments with Categorical Features\n",
    "\n",
    "This notebook clusters articles using categorical features from the final dataset, excluding article_id and bert_cluster columns.\n"
   ]
  },
  {
   "cell_type": "code",
   "execution_count": 1,
   "metadata": {},
   "outputs": [
    {
     "name": "stdout",
     "output_type": "stream",
     "text": [
      "CWD: /Users/tom/Data Analysis Projects/h_and_m_data_analysis\n"
     ]
    }
   ],
   "source": [
    "# Ensure project root is the working directory so relative paths resolve\n",
    "import os\n",
    "if os.path.basename(os.getcwd()) == 'notebooks':\n",
    "    os.chdir('..')\n",
    "print('CWD:', os.getcwd())"
   ]
  },
  {
   "cell_type": "code",
   "execution_count": 2,
   "metadata": {},
   "outputs": [],
   "source": [
    "import polars as pl\n",
    "import pandas as pd\n",
    "import numpy as np\n",
    "from sklearn.preprocessing import OneHotEncoder\n",
    "from sklearn.decomposition import PCA\n",
    "import matplotlib.pyplot as plt\n",
    "import seaborn as sns\n",
    "import joblib\n",
    "from pathlib import Path\n",
    "\n",
    "# Import the ArticleClusterer module\n",
    "from hnm_data_analysis.clustering.article_clustering import ArticleClusterer, ClusteringConfig"
   ]
  },
  {
   "cell_type": "code",
   "execution_count": 3,
   "metadata": {},
   "outputs": [
    {
     "name": "stdout",
     "output_type": "stream",
     "text": [
      "Loaded data: 42,298 rows x 14 columns\n",
      "Columns: ['article_id', 'product_type_name', 'product_group_name', 'graphical_appearance_name', 'colour_group_name', 'perceived_colour_value_name', 'perceived_colour_master_name', 'department_name', 'index_name', 'index_group_name', 'section_name', 'garment_group_name', 'detail_desc', 'bert_cluster']\n"
     ]
    }
   ],
   "source": [
    "# Load the final dataset\n",
    "data_path = 'data/features/final/articles_features_final.parquet'\n",
    "df = pl.read_parquet(data_path)\n",
    "print(f'Loaded data: {df.shape[0]:,} rows x {df.shape[1]} columns')\n",
    "print(f'Columns: {df.columns}')"
   ]
  },
  {
   "cell_type": "code",
   "execution_count": 4,
   "metadata": {},
   "outputs": [
    {
     "name": "stdout",
     "output_type": "stream",
     "text": [
      "Feature columns (12): ['product_type_name', 'product_group_name', 'graphical_appearance_name', 'colour_group_name', 'perceived_colour_value_name', 'perceived_colour_master_name', 'department_name', 'index_name', 'index_group_name', 'section_name', 'garment_group_name', 'detail_desc']\n",
      "Total articles for clustering: 42,298\n"
     ]
    }
   ],
   "source": [
    "# Select features for clustering from all articles - exclude article_id and bert_cluster\n",
    "exclude_cols = ['article_id', 'bert_cluster']\n",
    "feature_cols = [col for col in df.columns if col not in exclude_cols]\n",
    "print(f'Feature columns ({len(feature_cols)}): {feature_cols}')\n",
    "print(f'Total articles for clustering: {df.shape[0]:,}')"
   ]
  },
  {
   "cell_type": "code",
   "execution_count": 5,
   "metadata": {},
   "outputs": [
    {
     "name": "stdout",
     "output_type": "stream",
     "text": [
      "Feature matrix shape: (42298, 12)\n",
      "Article IDs: 42298\n",
      "\n",
      "Feature data types:\n",
      "product_type_name               category\n",
      "product_group_name              category\n",
      "graphical_appearance_name       category\n",
      "colour_group_name               category\n",
      "perceived_colour_value_name     category\n",
      "perceived_colour_master_name    category\n",
      "department_name                 category\n",
      "index_name                      category\n",
      "index_group_name                category\n",
      "section_name                    category\n",
      "garment_group_name              category\n",
      "detail_desc                     category\n",
      "dtype: object\n"
     ]
    }
   ],
   "source": [
    "# Convert to pandas for sklearn compatibility (using all articles)\n",
    "df_features = df.select(feature_cols).to_pandas()\n",
    "article_ids = df.select('article_id').to_pandas()['article_id'].values\n",
    "\n",
    "print(f'Feature matrix shape: {df_features.shape}')\n",
    "print(f'Article IDs: {len(article_ids)}')\n",
    "print(f'\\nFeature data types:')\n",
    "print(df_features.dtypes)"
   ]
  },
  {
   "cell_type": "code",
   "execution_count": 6,
   "metadata": {},
   "outputs": [
    {
     "name": "stdout",
     "output_type": "stream",
     "text": [
      "Categorical columns (12): ['product_type_name', 'product_group_name', 'graphical_appearance_name', 'colour_group_name', 'perceived_colour_value_name', 'perceived_colour_master_name', 'department_name', 'index_name', 'index_group_name', 'section_name', 'garment_group_name', 'detail_desc']\n",
      "\n",
      "Processed feature matrix shape: (42298, 20307)\n"
     ]
    }
   ],
   "source": [
    "# Preprocess categorical features (all columns are categorical now)\n",
    "from sklearn.preprocessing import OneHotEncoder\n",
    "\n",
    "# All feature columns are categorical (the dataset now only contains categorical columns)\n",
    "categorical_cols = feature_cols\n",
    "print(f'Categorical columns ({len(categorical_cols)}): {categorical_cols}')\n",
    "\n",
    "# Create one-hot encoder for categorical features\n",
    "encoder = OneHotEncoder(drop='first', sparse_output=False, handle_unknown='ignore')\n",
    "\n",
    "# Fit and transform the features\n",
    "X_processed = encoder.fit_transform(df_features)\n",
    "print(f'\\nProcessed feature matrix shape: {X_processed.shape}')"
   ]
  },
  {
   "cell_type": "code",
   "execution_count": 7,
   "metadata": {},
   "outputs": [
    {
     "name": "stdout",
     "output_type": "stream",
     "text": [
      "Total features after encoding: 20307\n",
      "First 10 feature names: ['product_type_name_Alice band' 'product_type_name_Baby Bib'\n",
      " 'product_type_name_Backpack' 'product_type_name_Bag'\n",
      " 'product_type_name_Ballerinas' 'product_type_name_Beanie'\n",
      " 'product_type_name_Belt' 'product_type_name_Bikini top'\n",
      " 'product_type_name_Blazer' 'product_type_name_Blouse']\n"
     ]
    }
   ],
   "source": [
    "# Get feature names after preprocessing\n",
    "feature_names = encoder.get_feature_names_out(categorical_cols)\n",
    "\n",
    "print(f'Total features after encoding: {len(feature_names)}')\n",
    "print(f'First 10 feature names: {feature_names[:10]}')"
   ]
  },
  {
   "cell_type": "code",
   "execution_count": 8,
   "metadata": {},
   "outputs": [
    {
     "name": "stdout",
     "output_type": "stream",
     "text": [
      "PCA reduced features to 50 components\n",
      "Explained variance ratio (first 10): [0.06405741 0.06039663 0.04492148 0.03922934 0.0390047  0.03025237\n",
      " 0.02824735 0.02521067 0.02293512 0.02048241]\n",
      "Total explained variance: 0.677\n",
      "Saved categorical features to: data/features/categorical/pca_categorical_features.parquet\n"
     ]
    }
   ],
   "source": [
    "# Save processed categorical features for ArticleClusterer\n",
    "# First apply PCA for dimensionality reduction (similar to BERT notebook)\n",
    "n_components = min(50, X_processed.shape[1])  # Use up to 50 components or max available\n",
    "pca = PCA(n_components=n_components, random_state=42)\n",
    "X_pca = pca.fit_transform(X_processed)\n",
    "\n",
    "print(f'PCA reduced features to {X_pca.shape[1]} components')\n",
    "print(f'Explained variance ratio (first 10): {pca.explained_variance_ratio_[:10]}')\n",
    "print(f'Total explained variance: {pca.explained_variance_ratio_.sum():.3f}')\n",
    "\n",
    "# Create categorical features dataset compatible with ArticleClusterer\n",
    "categorical_features_dir = Path('data/features/categorical')\n",
    "categorical_features_dir.mkdir(parents=True, exist_ok=True)\n",
    "\n",
    "# Save PCA features as parquet with article_id and feature columns\n",
    "feature_column_names = [f'pca_{i:03d}' for i in range(X_pca.shape[1])]\n",
    "categorical_features_df = pl.DataFrame({\n",
    "    'article_id': article_ids,\n",
    "    **{name: X_pca[:, i] for i, name in enumerate(feature_column_names)}\n",
    "})\n",
    "\n",
    "categorical_features_path = categorical_features_dir / 'pca_categorical_features.parquet'\n",
    "categorical_features_df.write_parquet(categorical_features_path)\n",
    "print(f'Saved categorical features to: {categorical_features_path}')"
   ]
  },
  {
   "cell_type": "code",
   "execution_count": 9,
   "metadata": {},
   "outputs": [
    {
     "name": "stdout",
     "output_type": "stream",
     "text": [
      "Loaded features: 42,298 articles x 50 features\n",
      "Loaded articles metadata: 42,298 articles\n"
     ]
    },
    {
     "data": {
      "text/html": [
       "<div><style>\n",
       ".dataframe > thead > tr,\n",
       ".dataframe > tbody > tr {\n",
       "  text-align: right;\n",
       "  white-space: pre-wrap;\n",
       "}\n",
       "</style>\n",
       "<small>shape: (42_298, 14)</small><table border=\"1\" class=\"dataframe\"><thead><tr><th>article_id</th><th>product_type_name</th><th>product_group_name</th><th>graphical_appearance_name</th><th>colour_group_name</th><th>perceived_colour_value_name</th><th>perceived_colour_master_name</th><th>department_name</th><th>index_name</th><th>index_group_name</th><th>section_name</th><th>garment_group_name</th><th>detail_desc</th><th>bert_cluster</th></tr><tr><td>i64</td><td>cat</td><td>cat</td><td>cat</td><td>cat</td><td>cat</td><td>cat</td><td>cat</td><td>cat</td><td>cat</td><td>cat</td><td>cat</td><td>cat</td><td>i64</td></tr></thead><tbody><tr><td>652356082</td><td>&quot;Underwear bottom&quot;</td><td>&quot;Underwear&quot;</td><td>&quot;All over pattern&quot;</td><td>&quot;Orange&quot;</td><td>&quot;Dusty Light&quot;</td><td>&quot;Orange&quot;</td><td>&quot;Underwear Woven&quot;</td><td>&quot;Menswear&quot;</td><td>&quot;Menswear&quot;</td><td>&quot;Men Underwear&quot;</td><td>&quot;Under-, Nightwear&quot;</td><td>&quot;Boxer shorts in a cotton weave…</td><td>10</td></tr><tr><td>212629004</td><td>&quot;Dress&quot;</td><td>&quot;Garment Full body&quot;</td><td>&quot;Solid&quot;</td><td>&quot;Black&quot;</td><td>&quot;Dark&quot;</td><td>&quot;Black&quot;</td><td>&quot;Basic 1&quot;</td><td>&quot;Divided&quot;</td><td>&quot;Divided&quot;</td><td>&quot;Divided Basics&quot;</td><td>&quot;Jersey Basic&quot;</td><td>&quot;Long, sleeveless dress in jers…</td><td>28</td></tr><tr><td>619601011</td><td>&quot;Robe&quot;</td><td>&quot;Underwear&quot;</td><td>&quot;Mixed solid/pattern&quot;</td><td>&quot;Light Yellow&quot;</td><td>&quot;Light&quot;</td><td>&quot;Yellow&quot;</td><td>&quot;Kids Girl UW/NW&quot;</td><td>&quot;Children Sizes 92-140&quot;</td><td>&quot;Baby/Children&quot;</td><td>&quot;Girls Underwear &amp; Basics&quot;</td><td>&quot;Under-, Nightwear&quot;</td><td>&quot;Dressing gown in terry with a …</td><td>29</td></tr><tr><td>680846003</td><td>&quot;Blouse&quot;</td><td>&quot;Garment Upper body&quot;</td><td>&quot;Solid&quot;</td><td>&quot;Light Pink&quot;</td><td>&quot;Dusty Light&quot;</td><td>&quot;Pink&quot;</td><td>&quot;Campaigns&quot;</td><td>&quot;Ladieswear&quot;</td><td>&quot;Ladieswear&quot;</td><td>&quot;Womens Everyday Collection&quot;</td><td>&quot;Special Offers&quot;</td><td>&quot;Blouse in airy crêpe with a sm…</td><td>14</td></tr><tr><td>777020002</td><td>&quot;Shorts&quot;</td><td>&quot;Garment Lower body&quot;</td><td>&quot;Solid&quot;</td><td>&quot;Light Turquoise&quot;</td><td>&quot;Light&quot;</td><td>&quot;Turquoise&quot;</td><td>&quot;Trousers &amp; Skirt&quot;</td><td>&quot;Ladieswear&quot;</td><td>&quot;Ladieswear&quot;</td><td>&quot;Womens Trend&quot;</td><td>&quot;Trousers&quot;</td><td>&quot;Shorts in an airy, crinkled ny…</td><td>18</td></tr><tr><td>&hellip;</td><td>&hellip;</td><td>&hellip;</td><td>&hellip;</td><td>&hellip;</td><td>&hellip;</td><td>&hellip;</td><td>&hellip;</td><td>&hellip;</td><td>&hellip;</td><td>&hellip;</td><td>&hellip;</td><td>&hellip;</td><td>&hellip;</td></tr><tr><td>428291007</td><td>&quot;Hat/beanie&quot;</td><td>&quot;Accessories&quot;</td><td>&quot;Solid&quot;</td><td>&quot;Grey&quot;</td><td>&quot;Dusty Light&quot;</td><td>&quot;Grey&quot;</td><td>&quot;Knit &amp; Woven&quot;</td><td>&quot;Divided&quot;</td><td>&quot;Divided&quot;</td><td>&quot;Divided Accessories&quot;</td><td>&quot;Accessories&quot;</td><td>&quot;Knitted headband containing so…</td><td>29</td></tr><tr><td>796671002</td><td>&quot;Trousers&quot;</td><td>&quot;Garment Lower body&quot;</td><td>&quot;All over pattern&quot;</td><td>&quot;Dark Blue&quot;</td><td>&quot;Dark&quot;</td><td>&quot;Blue&quot;</td><td>&quot;Kids Girl Trouser&quot;</td><td>&quot;Children Sizes 92-140&quot;</td><td>&quot;Baby/Children&quot;</td><td>&quot;Kids Girl&quot;</td><td>&quot;Trousers&quot;</td><td>&quot;Treggings in patterned stretch…</td><td>24</td></tr><tr><td>814594005</td><td>&quot;T-shirt&quot;</td><td>&quot;Garment Upper body&quot;</td><td>&quot;Front print&quot;</td><td>&quot;White&quot;</td><td>&quot;Light&quot;</td><td>&quot;White&quot;</td><td>&quot;Young Boy Jersey Fancy&quot;</td><td>&quot;Children Sizes 134-170&quot;</td><td>&quot;Baby/Children&quot;</td><td>&quot;Young Boy&quot;</td><td>&quot;Jersey Fancy&quot;</td><td>&quot;Classic T-shirt in soft cotton…</td><td>23</td></tr><tr><td>624444001</td><td>&quot;Trousers&quot;</td><td>&quot;Garment Lower body&quot;</td><td>&quot;All over pattern&quot;</td><td>&quot;Light Pink&quot;</td><td>&quot;Dusty Light&quot;</td><td>&quot;Pink&quot;</td><td>&quot;Newborn&quot;</td><td>&quot;Baby Sizes 50-98&quot;</td><td>&quot;Baby/Children&quot;</td><td>&quot;Baby Essentials &amp; Complements&quot;</td><td>&quot;Jersey Fancy&quot;</td><td>&quot;Trousers in soft organic cotto…</td><td>2</td></tr><tr><td>863574002</td><td>&quot;Jacket&quot;</td><td>&quot;Garment Upper body&quot;</td><td>&quot;Chambray&quot;</td><td>&quot;Dark Blue&quot;</td><td>&quot;Medium Dusty&quot;</td><td>&quot;Blue&quot;</td><td>&quot;Kids Boy Outdoor&quot;</td><td>&quot;Children Sizes 92-140&quot;</td><td>&quot;Baby/Children&quot;</td><td>&quot;Kids Outerwear&quot;</td><td>&quot;Outdoor&quot;</td><td>&quot;Lightweight puffer jacket in a…</td><td>30</td></tr></tbody></table></div>"
      ],
      "text/plain": [
       "shape: (42_298, 14)\n",
       "┌───────────┬───────────┬───────────┬───────────┬───┬───────────┬───────────┬───────────┬──────────┐\n",
       "│ article_i ┆ product_t ┆ product_g ┆ graphical ┆ … ┆ section_n ┆ garment_g ┆ detail_de ┆ bert_clu │\n",
       "│ d         ┆ ype_name  ┆ roup_name ┆ _appearan ┆   ┆ ame       ┆ roup_name ┆ sc        ┆ ster     │\n",
       "│ ---       ┆ ---       ┆ ---       ┆ ce_name   ┆   ┆ ---       ┆ ---       ┆ ---       ┆ ---      │\n",
       "│ i64       ┆ cat       ┆ cat       ┆ ---       ┆   ┆ cat       ┆ cat       ┆ cat       ┆ i64      │\n",
       "│           ┆           ┆           ┆ cat       ┆   ┆           ┆           ┆           ┆          │\n",
       "╞═══════════╪═══════════╪═══════════╪═══════════╪═══╪═══════════╪═══════════╪═══════════╪══════════╡\n",
       "│ 652356082 ┆ Underwear ┆ Underwear ┆ All over  ┆ … ┆ Men       ┆ Under-,   ┆ Boxer     ┆ 10       │\n",
       "│           ┆ bottom    ┆           ┆ pattern   ┆   ┆ Underwear ┆ Nightwear ┆ shorts in ┆          │\n",
       "│           ┆           ┆           ┆           ┆   ┆           ┆           ┆ a cotton  ┆          │\n",
       "│           ┆           ┆           ┆           ┆   ┆           ┆           ┆ weave…    ┆          │\n",
       "│ 212629004 ┆ Dress     ┆ Garment   ┆ Solid     ┆ … ┆ Divided   ┆ Jersey    ┆ Long, sle ┆ 28       │\n",
       "│           ┆           ┆ Full body ┆           ┆   ┆ Basics    ┆ Basic     ┆ eveless   ┆          │\n",
       "│           ┆           ┆           ┆           ┆   ┆           ┆           ┆ dress in  ┆          │\n",
       "│           ┆           ┆           ┆           ┆   ┆           ┆           ┆ jers…     ┆          │\n",
       "│ 619601011 ┆ Robe      ┆ Underwear ┆ Mixed sol ┆ … ┆ Girls     ┆ Under-,   ┆ Dressing  ┆ 29       │\n",
       "│           ┆           ┆           ┆ id/patter ┆   ┆ Underwear ┆ Nightwear ┆ gown in   ┆          │\n",
       "│           ┆           ┆           ┆ n         ┆   ┆ & Basics  ┆           ┆ terry     ┆          │\n",
       "│           ┆           ┆           ┆           ┆   ┆           ┆           ┆ with a …  ┆          │\n",
       "│ 680846003 ┆ Blouse    ┆ Garment   ┆ Solid     ┆ … ┆ Womens    ┆ Special   ┆ Blouse in ┆ 14       │\n",
       "│           ┆           ┆ Upper     ┆           ┆   ┆ Everyday  ┆ Offers    ┆ airy      ┆          │\n",
       "│           ┆           ┆ body      ┆           ┆   ┆ Collectio ┆           ┆ crêpe     ┆          │\n",
       "│           ┆           ┆           ┆           ┆   ┆ n         ┆           ┆ with a    ┆          │\n",
       "│           ┆           ┆           ┆           ┆   ┆           ┆           ┆ sm…       ┆          │\n",
       "│ 777020002 ┆ Shorts    ┆ Garment   ┆ Solid     ┆ … ┆ Womens    ┆ Trousers  ┆ Shorts in ┆ 18       │\n",
       "│           ┆           ┆ Lower     ┆           ┆   ┆ Trend     ┆           ┆ an airy,  ┆          │\n",
       "│           ┆           ┆ body      ┆           ┆   ┆           ┆           ┆ crinkled  ┆          │\n",
       "│           ┆           ┆           ┆           ┆   ┆           ┆           ┆ ny…       ┆          │\n",
       "│ …         ┆ …         ┆ …         ┆ …         ┆ … ┆ …         ┆ …         ┆ …         ┆ …        │\n",
       "│ 428291007 ┆ Hat/beani ┆ Accessori ┆ Solid     ┆ … ┆ Divided   ┆ Accessori ┆ Knitted   ┆ 29       │\n",
       "│           ┆ e         ┆ es        ┆           ┆   ┆ Accessori ┆ es        ┆ headband  ┆          │\n",
       "│           ┆           ┆           ┆           ┆   ┆ es        ┆           ┆ containin ┆          │\n",
       "│           ┆           ┆           ┆           ┆   ┆           ┆           ┆ g so…     ┆          │\n",
       "│ 796671002 ┆ Trousers  ┆ Garment   ┆ All over  ┆ … ┆ Kids Girl ┆ Trousers  ┆ Treggings ┆ 24       │\n",
       "│           ┆           ┆ Lower     ┆ pattern   ┆   ┆           ┆           ┆ in        ┆          │\n",
       "│           ┆           ┆ body      ┆           ┆   ┆           ┆           ┆ patterned ┆          │\n",
       "│           ┆           ┆           ┆           ┆   ┆           ┆           ┆ stretch…  ┆          │\n",
       "│ 814594005 ┆ T-shirt   ┆ Garment   ┆ Front     ┆ … ┆ Young Boy ┆ Jersey    ┆ Classic   ┆ 23       │\n",
       "│           ┆           ┆ Upper     ┆ print     ┆   ┆           ┆ Fancy     ┆ T-shirt   ┆          │\n",
       "│           ┆           ┆ body      ┆           ┆   ┆           ┆           ┆ in soft   ┆          │\n",
       "│           ┆           ┆           ┆           ┆   ┆           ┆           ┆ cotton…   ┆          │\n",
       "│ 624444001 ┆ Trousers  ┆ Garment   ┆ All over  ┆ … ┆ Baby Esse ┆ Jersey    ┆ Trousers  ┆ 2        │\n",
       "│           ┆           ┆ Lower     ┆ pattern   ┆   ┆ ntials &  ┆ Fancy     ┆ in soft   ┆          │\n",
       "│           ┆           ┆ body      ┆           ┆   ┆ Complemen ┆           ┆ organic   ┆          │\n",
       "│           ┆           ┆           ┆           ┆   ┆ ts        ┆           ┆ cotto…    ┆          │\n",
       "│ 863574002 ┆ Jacket    ┆ Garment   ┆ Chambray  ┆ … ┆ Kids      ┆ Outdoor   ┆ Lightweig ┆ 30       │\n",
       "│           ┆           ┆ Upper     ┆           ┆   ┆ Outerwear ┆           ┆ ht puffer ┆          │\n",
       "│           ┆           ┆ body      ┆           ┆   ┆           ┆           ┆ jacket in ┆          │\n",
       "│           ┆           ┆           ┆           ┆   ┆           ┆           ┆ a…        ┆          │\n",
       "└───────────┴───────────┴───────────┴───────────┴───┴───────────┴───────────┴───────────┴──────────┘"
      ]
     },
     "execution_count": 9,
     "metadata": {},
     "output_type": "execute_result"
    }
   ],
   "source": [
    "# Initialize ArticleClusterer with categorical features\n",
    "clusterer = ArticleClusterer(\n",
    "    features_path=str(categorical_features_path),\n",
    "    articles_metadata_path='data/features/final/articles_features_final.parquet'\n",
    ")\n",
    "\n",
    "# Load features and metadata\n",
    "features, article_ids_loaded = clusterer.load_features()\n",
    "clusterer.load_articles_metadata()"
   ]
  },
  {
   "cell_type": "code",
   "execution_count": null,
   "metadata": {},
   "outputs": [
    {
     "name": "stdout",
     "output_type": "stream",
     "text": [
      "Finding optimal k using elbow method...\n",
      "Finding optimal k using elbow method with kmeans...\n",
      "k=2: elbow score = 254145.6875\n",
      "k=3: elbow score = 237213.7188\n",
      "k=4: elbow score = 226344.6562\n",
      "k=5: elbow score = 216021.7031\n",
      "k=6: elbow score = 208342.3750\n",
      "k=7: elbow score = 203176.0781\n",
      "k=8: elbow score = 196725.6875\n",
      "k=9: elbow score = 191618.9688\n",
      "k=10: elbow score = 185596.8281\n",
      "k=11: elbow score = 180482.2188\n",
      "k=12: elbow score = 176534.6406\n",
      "k=13: elbow score = 172202.8906\n",
      "k=14: elbow score = 168202.8438\n",
      "k=15: elbow score = 165975.5625\n",
      "k=16: elbow score = 162828.1250\n",
      "k=17: elbow score = 159881.0000\n",
      "k=18: elbow score = 156579.0938\n",
      "k=19: elbow score = 154867.2188\n",
      "k=20: elbow score = 153830.9375\n",
      "k=21: elbow score = 151611.7188\n",
      "k=22: elbow score = 149411.5000\n",
      "k=23: elbow score = 148357.8750\n",
      "k=24: elbow score = 146099.5781\n",
      "k=25: elbow score = 143494.5156\n",
      "k=26: elbow score = 142293.4375\n",
      "k=27: elbow score = 142342.1094\n",
      "k=28: elbow score = 139780.6875\n",
      "k=29: elbow score = 139347.4062\n",
      "k=30: elbow score = 137702.6875\n",
      "k=31: elbow score = 136218.0625\n",
      "k=32: elbow score = 134932.0781\n",
      "k=33: elbow score = 133140.2344\n",
      "k=34: elbow score = 132666.6875\n",
      "k=35: elbow score = 131551.2031\n",
      "k=36: elbow score = 130054.4141\n",
      "k=37: elbow score = 129788.9531\n"
     ]
    }
   ],
   "source": [
    "# Create output directory\n",
    "out_dir = Path('results/categorical_clustering')\n",
    "out_dir.mkdir(parents=True, exist_ok=True)\n",
    "\n",
    "# Find optimal k using different methods with ArticleClusterer\n",
    "k_min, k_max = 2, 50\n",
    "print('Finding optimal k using elbow method...')\n",
    "opt_k_elbow, scores_elbow = clusterer.find_optimal_k(k_range=(k_min, k_max), method='elbow')\n",
    "clusterer.plot_k_selection(scores_elbow, method='elbow', optimal_k=opt_k_elbow, \n",
    "                          save_path=str(out_dir / f'optimal_k_elbow_{k_min}_{k_max}.png'))\n",
    "\n",
    "print('\\nFinding optimal k using silhouette method...')\n",
    "opt_k_sil, scores_sil = clusterer.find_optimal_k(k_range=(k_min, k_max), method='silhouette')\n",
    "clusterer.plot_k_selection(scores_sil, method='silhouette', optimal_k=opt_k_sil,\n",
    "                          save_path=str(out_dir / f'optimal_k_silhouette_{k_min}_{k_max}.png'))\n",
    "\n",
    "print(f'\\nOptimal k recommendations:')\n",
    "print(f'Elbow: {opt_k_elbow}')\n",
    "print(f'Silhouette: {opt_k_sil}')\n",
    "\n",
    "# Use silhouette as primary recommendation\n",
    "recommended_k = opt_k_sil\n",
    "print(f'\\nUsing k={recommended_k} (silhouette method)')"
   ]
  },
  {
   "cell_type": "code",
   "execution_count": null,
   "metadata": {},
   "outputs": [],
   "source": [
    "# Remove the manual calculation of additional metrics since ArticleClusterer handles this\n",
    "# Perform final clustering with ArticleClusterer\n",
    "print(f'Performing final clustering with k={recommended_k}')\n",
    "config = ClusteringConfig(algorithm='kmeans', n_clusters=recommended_k)\n",
    "results = clusterer.cluster(config)\n",
    "\n",
    "print(f'Final clustering results:')\n",
    "print(f'Number of clusters: {results.n_clusters}')\n",
    "print(f'Silhouette Score: {results.silhouette:.4f}')\n",
    "print(f'Calinski-Harabasz Index: {results.calinski_harabasz:.4f}')\n",
    "print(f'Davies-Bouldin Index: {results.davies_bouldin:.4f}')\n",
    "\n",
    "# Show cluster distribution\n",
    "unique, counts = np.unique(results.labels, return_counts=True)\n",
    "print(f'\\nCluster distribution:')\n",
    "for cluster_id, count in zip(unique, counts):\n",
    "    print(f'Cluster {cluster_id}: {count} items ({count/len(results.labels)*100:.1f}%)')"
   ]
  },
  {
   "cell_type": "code",
   "execution_count": null,
   "metadata": {},
   "outputs": [],
   "source": [
    "# Remove duplicate clustering - ArticleClusterer already performed it in previous cell\n",
    "# Just reference the existing results\n",
    "cluster_labels = results.labels\n",
    "recommended_k = results.n_clusters\n",
    "silhouette = results.silhouette\n",
    "calinski_harabasz = results.calinski_harabasz\n",
    "davies_bouldin = results.davies_bouldin\n",
    "\n",
    "print(f'Using clustering results from ArticleClusterer:')"
   ]
  },
  {
   "cell_type": "code",
   "execution_count": null,
   "metadata": {},
   "outputs": [],
   "source": [
    "# Use ArticleClusterer's built-in visualization methods\n",
    "clusterer.visualise_clusters(method='pca', save_path=str(out_dir / 'clusters_pca.png'))\n",
    "clusterer.visualise_clusters(method='tsne', save_path=str(out_dir / 'clusters_tsne.png'))"
   ]
  },
  {
   "cell_type": "code",
   "execution_count": null,
   "metadata": {},
   "outputs": [],
   "source": [
    "# Use ArticleClusterer's interpretation functionality\n",
    "cluster_interpretations = clusterer.interpret_clusters()\n",
    "\n",
    "# Display sample articles from different clusters\n",
    "print('Sample cluster interpretations:')\n",
    "for cluster_id in list(cluster_interpretations.keys())[:3]:  # Show first 3 clusters\n",
    "    interpretation = cluster_interpretations[cluster_id]\n",
    "    print(f'\\nCluster {cluster_id}:')\n",
    "    print(f'  Size: {interpretation[\"size\"]} articles ({interpretation[\"percentage\"]:.1f}%)')\n",
    "    \n",
    "    # Show top categories for this cluster\n",
    "    for key, values in interpretation.items():\n",
    "        if key.startswith('top_') and isinstance(values, dict):\n",
    "            category_name = key.replace('top_', '').replace('_', ' ').title()\n",
    "            print(f'  {category_name}: {dict(list(values.items())[:3])}')  # Show top 3 values\n",
    "\n",
    "# Also display sample articles using the original function but with clusterer's data\n",
    "def display_cluster_samples(clusterer_obj, labels, n_clusters_sample=3, n_articles_per_cluster=3):\n",
    "    unique_clusters = np.unique(labels)\n",
    "    sampled_clusters = np.random.choice(unique_clusters, \n",
    "                                      size=min(n_clusters_sample, len(unique_clusters)), \n",
    "                                      replace=False)\n",
    "    \n",
    "    print(f'\\nDetailed samples from clusters: {sampled_clusters}')\n",
    "    \n",
    "    for cluster_id in sampled_clusters:\n",
    "        cluster_indices = np.where(labels == cluster_id)[0]\n",
    "        if len(cluster_indices) == 0:\n",
    "            continue\n",
    "            \n",
    "        sample_indices = np.random.choice(cluster_indices, \n",
    "                                        size=min(n_articles_per_cluster, len(cluster_indices)), \n",
    "                                        replace=False)\n",
    "        sampled_article_ids = [clusterer_obj.article_ids[i] for i in sample_indices]\n",
    "        \n",
    "        print(f'\\nCluster {cluster_id} — {len(cluster_indices)} items; showing {len(sampled_article_ids)} samples')\n",
    "        \n",
    "        # Display sample articles from this cluster\n",
    "        if clusterer_obj.articles_metadata is not None:\n",
    "            sample_df = clusterer_obj.articles_metadata.filter(pl.col('article_id').is_in(sampled_article_ids))\n",
    "            display_cols = ['article_id', 'product_group_name', 'product_type_name', \n",
    "                           'department_name', 'garment_group_name', 'colour_group_name',\n",
    "                           'graphical_appearance_name', 'detail_desc', 'bert_cluster']\n",
    "            \n",
    "            # Only select columns that exist in the dataframe\n",
    "            existing_cols = [col for col in display_cols if col in sample_df.columns]\n",
    "            print(sample_df.select(existing_cols).to_pandas())\n",
    "\n",
    "# Display sample clusters\n",
    "display_cluster_samples(clusterer, cluster_labels)"
   ]
  },
  {
   "cell_type": "code",
   "execution_count": null,
   "metadata": {},
   "outputs": [],
   "source": [
    "# Use ArticleClusterer's save functionality\n",
    "clusterer.save_results(str(out_dir))\n",
    "\n",
    "# Also save preprocessing artifacts for reproducibility\n",
    "joblib.dump(encoder, out_dir / 'encoder.joblib')\n",
    "print(f'Saved encoder to: {out_dir / \"encoder.joblib\"}')\n",
    "\n",
    "joblib.dump(pca, out_dir / 'pca_model.joblib')\n",
    "print(f'Saved PCA model to: {out_dir / \"pca_model.joblib\"}')\n",
    "\n",
    "# Save additional metadata about the categorical preprocessing\n",
    "import json\n",
    "preprocessing_metadata = {\n",
    "    'preprocessing_method': 'one_hot_encoding_plus_pca',\n",
    "    'n_features_original': int(X_processed.shape[1]),\n",
    "    'n_features_pca': int(X_pca.shape[1]),\n",
    "    'n_articles': int(len(article_ids)),\n",
    "    'explained_variance_ratio': float(pca.explained_variance_ratio_.sum()),\n",
    "    'feature_columns_used': feature_cols,\n",
    "    'categorical_columns': categorical_cols,\n",
    "    'categorical_features_file': str(categorical_features_path)\n",
    "}\n",
    "\n",
    "with open(out_dir / 'preprocessing_metadata.json', 'w') as f:\n",
    "    json.dump(preprocessing_metadata, f, indent=2)\n",
    "print(f'Saved preprocessing metadata to: {out_dir / \"preprocessing_metadata.json\"}')"
   ]
  },
  {
   "cell_type": "code",
   "execution_count": null,
   "metadata": {},
   "outputs": [],
   "source": [
    "# Create final dataset with both BERT and categorical clusters\n",
    "print('Creating final dataset with categorical cluster labels...')\n",
    "\n",
    "# Get categorical cluster labels from ArticleClusterer results\n",
    "cat_labels_pl = pl.DataFrame({\n",
    "    'article_id': clusterer.article_ids,\n",
    "    'categorical_cluster': results.labels\n",
    "})\n",
    "\n",
    "# Join with original dataset (now includes ALL articles with categorical clusters)\n",
    "final_dataset = df.join(cat_labels_pl, on='article_id', how='left')\n",
    "\n",
    "print(f'Final dataset shape: {final_dataset.shape}')\n",
    "print(f'Articles with categorical clusters: {final_dataset.filter(pl.col(\"categorical_cluster\").is_not_null()).shape[0]:,}')\n",
    "print(f'Articles with BERT clusters: {final_dataset.filter(pl.col(\"bert_cluster\").is_not_null()).shape[0]:,}')\n",
    "\n",
    "# Show overlap between clustering methods\n",
    "both_clusters = final_dataset.filter(\n",
    "    (pl.col(\"categorical_cluster\").is_not_null()) & \n",
    "    (pl.col(\"bert_cluster\").is_not_null())\n",
    ").shape[0]\n",
    "print(f'Articles with both cluster types: {both_clusters:,}')\n",
    "\n",
    "# Save the enhanced dataset\n",
    "output_path = Path('data/features/final/articles_features_with_clusters.parquet')\n",
    "final_dataset.write_parquet(output_path)\n",
    "print(f'Saved enhanced dataset to: {output_path}')\n",
    "\n",
    "print(f'\\nDataset summary:')\n",
    "print('BERT clusters:', final_dataset.select('bert_cluster').filter(pl.col('bert_cluster').is_not_null()).shape[0])\n",
    "print('Categorical clusters:', final_dataset.select('categorical_cluster').filter(pl.col('categorical_cluster').is_not_null()).shape[0])\n",
    "print('\\nCluster value ranges:')\n",
    "print('BERT cluster range:', final_dataset.select(pl.col('bert_cluster').min().alias('min'), pl.col('bert_cluster').max().alias('max')))\n",
    "print('Categorical cluster range:', final_dataset.select(pl.col('categorical_cluster').min().alias('min'), pl.col('categorical_cluster').max().alias('max')))\n",
    "\n",
    "# Generate data report for the final enhanced dataset\n",
    "from hnm_data_analysis.data_understanding.data_report_generator import generate_data_report\n",
    "print(f'\\nGenerating data report for enhanced dataset...')\n",
    "report_path = generate_data_report(str(output_path))\n",
    "print(f'Data report saved to: {report_path}')"
   ]
  },
  {
   "cell_type": "code",
   "execution_count": null,
   "metadata": {},
   "outputs": [],
   "source": [
    "from hnm_data_analysis.data_understanding.data_report_generator import generate_data_report\n",
    "# Generate data report for data/features/final/articles_features_with_clusters.parquet\n",
    "print(generate_data_report(\"data/features/final/articles_features_with_clusters.parquet\"))"
   ]
  }
 ],
 "metadata": {
  "kernelspec": {
   "display_name": ".venv",
   "language": "python",
   "name": "python3"
  },
  "language_info": {
   "codemirror_mode": {
    "name": "ipython",
    "version": 3
   },
   "file_extension": ".py",
   "mimetype": "text/x-python",
   "name": "python",
   "nbconvert_exporter": "python",
   "pygments_lexer": "ipython3",
   "version": "3.11.4"
  }
 },
 "nbformat": 4,
 "nbformat_minor": 4
}
